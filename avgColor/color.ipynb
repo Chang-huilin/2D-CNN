{
 "cells": [
  {
   "cell_type": "code",
   "execution_count": 9,
   "metadata": {},
   "outputs": [
    {
     "name": "stdout",
     "output_type": "stream",
     "text": [
      "子文件夹: 1萎凋不足, 整体平均颜色 (RGB): [ 78.13834581 131.02925189  74.58022517]\n"
     ]
    },
    {
     "data": {
      "image/png": "[encoded data removed]",
      "text/plain": [
       "<Figure size 640x480 with 1 Axes>"
      ]
     },
     "metadata": {},
     "output_type": "display_data"
    },
    {
     "name": "stdout",
     "output_type": "stream",
     "text": [
      "颜色图已保存到: L:\\常惠林\\萎凋\\自然萎凋\\原始\\1萎凋不足\\average_color_1萎凋不足.png\n",
      "子文件夹: 2萎凋适度, 整体平均颜色 (RGB): [ 71.8603548  119.00290913  68.38931614]\n"
     ]
    },
    {
     "data": {
      "image/png": "[encoded data removed]",
      "text/plain": [
       "<Figure size 640x480 with 1 Axes>"
      ]
     },
     "metadata": {},
     "output_type": "display_data"
    },
    {
     "name": "stdout",
     "output_type": "stream",
     "text": [
      "颜色图已保存到: L:\\常惠林\\萎凋\\自然萎凋\\原始\\2萎凋适度\\average_color_2萎凋适度.png\n",
      "子文件夹: 3萎凋过度, 整体平均颜色 (RGB): [ 73.51316343 120.61917021  70.28011048]\n"
     ]
    },
    {
     "data": {
      "image/png": "[encoded data removed]",
      "text/plain": [
       "<Figure size 640x480 with 1 Axes>"
      ]
     },
     "metadata": {},
     "output_type": "display_data"
    },
    {
     "name": "stdout",
     "output_type": "stream",
     "text": [
      "颜色图已保存到: L:\\常惠林\\萎凋\\自然萎凋\\原始\\3萎凋过度\\average_color_3萎凋过度.png\n"
     ]
    },
    {
     "name": "stderr",
     "output_type": "stream",
     "text": [
      "c:\\Users\\enine\\anaconda3\\envs\\changhl\\Lib\\site-packages\\IPython\\core\\pylabtools.py:170: UserWarning: Glyph 20266 (\\N{CJK UNIFIED IDEOGRAPH-4F2A}) missing from font(s) DejaVu Sans.\n",
      "  fig.canvas.print_figure(bytes_io, **kw)\n",
      "c:\\Users\\enine\\anaconda3\\envs\\changhl\\Lib\\site-packages\\IPython\\core\\pylabtools.py:170: UserWarning: Glyph 24425 (\\N{CJK UNIFIED IDEOGRAPH-5F69}) missing from font(s) DejaVu Sans.\n",
      "  fig.canvas.print_figure(bytes_io, **kw)\n",
      "c:\\Users\\enine\\anaconda3\\envs\\changhl\\Lib\\site-packages\\IPython\\core\\pylabtools.py:170: UserWarning: Glyph 21487 (\\N{CJK UNIFIED IDEOGRAPH-53EF}) missing from font(s) DejaVu Sans.\n",
      "  fig.canvas.print_figure(bytes_io, **kw)\n",
      "c:\\Users\\enine\\anaconda3\\envs\\changhl\\Lib\\site-packages\\IPython\\core\\pylabtools.py:170: UserWarning: Glyph 35270 (\\N{CJK UNIFIED IDEOGRAPH-89C6}) missing from font(s) DejaVu Sans.\n",
      "  fig.canvas.print_figure(bytes_io, **kw)\n",
      "c:\\Users\\enine\\anaconda3\\envs\\changhl\\Lib\\site-packages\\IPython\\core\\pylabtools.py:170: UserWarning: Glyph 21270 (\\N{CJK UNIFIED IDEOGRAPH-5316}) missing from font(s) DejaVu Sans.\n",
      "  fig.canvas.print_figure(bytes_io, **kw)\n",
      "c:\\Users\\enine\\anaconda3\\envs\\changhl\\Lib\\site-packages\\IPython\\core\\pylabtools.py:170: UserWarning: Glyph 65288 (\\N{FULLWIDTH LEFT PARENTHESIS}) missing from font(s) DejaVu Sans.\n",
      "  fig.canvas.print_figure(bytes_io, **kw)\n",
      "c:\\Users\\enine\\anaconda3\\envs\\changhl\\Lib\\site-packages\\IPython\\core\\pylabtools.py:170: UserWarning: Glyph 22522 (\\N{CJK UNIFIED IDEOGRAPH-57FA}) missing from font(s) DejaVu Sans.\n",
      "  fig.canvas.print_figure(bytes_io, **kw)\n",
      "c:\\Users\\enine\\anaconda3\\envs\\changhl\\Lib\\site-packages\\IPython\\core\\pylabtools.py:170: UserWarning: Glyph 20110 (\\N{CJK UNIFIED IDEOGRAPH-4E8E}) missing from font(s) DejaVu Sans.\n",
      "  fig.canvas.print_figure(bytes_io, **kw)\n",
      "c:\\Users\\enine\\anaconda3\\envs\\changhl\\Lib\\site-packages\\IPython\\core\\pylabtools.py:170: UserWarning: Glyph 65289 (\\N{FULLWIDTH RIGHT PARENTHESIS}) missing from font(s) DejaVu Sans.\n",
      "  fig.canvas.print_figure(bytes_io, **kw)\n"
     ]
    },
    {
     "data": {
      "image/png": "[encoded data removed]",
      "text/plain": [
       "<Figure size 1000x200 with 1 Axes>"
      ]
     },
     "metadata": {},
     "output_type": "display_data"
    },
    {
     "name": "stdout",
     "output_type": "stream",
     "text": [
      "伪彩色图已保存到: L:\\常惠林\\萎凋\\自然萎凋\\原始\\pseudo_color_visualization.png\n"
     ]
    },
    {
     "data": {
      "text/plain": [
       "<Figure size 640x480 with 0 Axes>"
      ]
     },
     "metadata": {},
     "output_type": "display_data"
    }
   ],
   "source": [
    "import os\n",
    "import numpy as np\n",
    "from PIL import Image\n",
    "from matplotlib import pyplot as plt\n",
    "import matplotlib.colors as mcolors\n",
    "\n",
    "# 定义根文件夹路径\n",
    "root_folder = r\"L:\\常惠林\\萎凋\\自然萎凋\\原始\"\n",
    "\n",
    "# 获取根文件夹下的所有子文件夹\n",
    "sub_folders = [f for f in os.listdir(root_folder) if os.path.isdir(os.path.join(root_folder, f))]\n",
    "\n",
    "# 检查是否有子文件夹\n",
    "if not sub_folders:\n",
    "    print(\"根文件夹中没有子文件夹。\")\n",
    "else:\n",
    "    # 存储每个子文件夹的整体平均颜色\n",
    "    average_colors = []\n",
    "\n",
    "    # 遍历每个子文件夹\n",
    "    for sub_folder in sub_folders:\n",
    "        # 子文件夹的完整路径\n",
    "        folder_path = os.path.join(root_folder, sub_folder)\n",
    "\n",
    "        # 获取子文件夹中的所有图像文件\n",
    "        image_files = [f for f in os.listdir(folder_path) if f.endswith(('.bmp', '.jpg', '.png', '.jpeg'))]\n",
    "\n",
    "        # 检查是否有图像文件\n",
    "        if not image_files:\n",
    "            print(f\"子文件夹 {sub_folder} 中没有图像文件。\")\n",
    "            continue\n",
    "\n",
    "        # 存储所有图像的像素值\n",
    "        all_pixels = []\n",
    "\n",
    "        # 遍历每张图像\n",
    "        for image_file in image_files:\n",
    "            # 读取图像\n",
    "            image_path = os.path.join(folder_path, image_file)\n",
    "            try:\n",
    "                # 使用 PIL 读取图像\n",
    "                image = Image.open(image_path)\n",
    "                image = np.array(image)  # 转换为 NumPy 数组\n",
    "\n",
    "                # 检查图像是否为空\n",
    "                if image.size == 0:\n",
    "                    print(f\"无法加载图像: {image_file}\")\n",
    "                    continue\n",
    "\n",
    "                # 将图像的像素值添加到 all_pixels 中\n",
    "                all_pixels.append(image)\n",
    "\n",
    "            except Exception as e:\n",
    "                print(f\"无法加载图像: {image_file}, 错误: {e}\")\n",
    "                continue\n",
    "\n",
    "        # 如果读取到图像，计算整体平均颜色\n",
    "        if all_pixels:\n",
    "            # 将所有图像的像素值合并\n",
    "            all_pixels = np.concatenate([pixels.reshape(-1, 3) for pixels in all_pixels], axis=0)\n",
    "\n",
    "            # 计算整体平均颜色（RGB格式）\n",
    "            average_color = np.mean(all_pixels, axis=0)\n",
    "            average_colors.append(average_color)\n",
    "\n",
    "            # 打印整体平均颜色\n",
    "            print(f\"子文件夹: {sub_folder}, 整体平均颜色 (RGB): {average_color}\")\n",
    "\n",
    "            # 生成颜色图\n",
    "            color_map = np.zeros((100, 100, 3), dtype=np.uint8)\n",
    "            color_map[:, :, :] = average_color  # 填充平均颜色\n",
    "\n",
    "            # 显示颜色图\n",
    "            plt.imshow(color_map)\n",
    "            plt.axis('off')  # 关闭坐标轴\n",
    "            plt.title(f\"子文件夹 {sub_folder} 的整体平均颜色\")\n",
    "            plt.show()\n",
    "\n",
    "            # 保存颜色图\n",
    "            output_path = os.path.join(folder_path, f\"average_color_{sub_folder}.png\")\n",
    "            Image.fromarray(color_map).save(output_path)\n",
    "            print(f\"颜色图已保存到: {output_path}\")\n",
    "        else:\n",
    "            print(f\"子文件夹 {sub_folder} 没有读取到任何图像。\")\n",
    "\n",
    "    # 对所有子文件夹的整体平均颜色进行伪彩色可视化\n",
    "    if average_colors:\n",
    "        # 将平均颜色转换为灰度值（用于伪彩色映射）\n",
    "        gray_values = np.mean(average_colors, axis=1)  # 取 RGB 的平均值作为灰度值\n",
    "\n",
    "        # 创建伪彩色映射（例如热力图）\n",
    "        colormap = plt.get_cmap('viridis')  # 可以使用其他 colormap，如 'plasma', 'inferno', 'magma', 'cividis'\n",
    "        normalized_values = (gray_values - np.min(gray_values)) / (np.max(gray_values) - np.min(gray_values))  # 归一化\n",
    "        pseudo_colors = colormap(normalized_values)\n",
    "\n",
    "        # 显示伪彩色图\n",
    "        plt.figure(figsize=(10, 2))\n",
    "        for i, color in enumerate(pseudo_colors):\n",
    "            plt.fill_between([i, i + 1], [0, 0], [1, 1], color=color)\n",
    "        plt.xlim(0, len(sub_folders))\n",
    "        plt.ylim(0, 1)\n",
    "        plt.axis('off')\n",
    "        plt.title(\"伪彩色可视化（基于整体平均颜色）\")\n",
    "        plt.show()\n",
    "\n",
    "        # 保存伪彩色图\n",
    "        output_path = os.path.join(root_folder, \"pseudo_color_visualization.png\")\n",
    "        plt.savefig(output_path, bbox_inches='tight', pad_inches=0)\n",
    "        print(f\"伪彩色图已保存到: {output_path}\")"
   ]
  }
 ],
 "metadata": {
  "kernelspec": {
   "display_name": "changhl",
   "language": "python",
   "name": "python3"
  },
  "language_info": {
   "codemirror_mode": {
    "name": "ipython",
    "version": 3
   },
   "file_extension": ".py",
   "mimetype": "text/x-python",
   "name": "python",
   "nbconvert_exporter": "python",
   "pygments_lexer": "ipython3",
   "version": "3.12.4"
  }
 },
 "nbformat": 4,
 "nbformat_minor": 2
}
