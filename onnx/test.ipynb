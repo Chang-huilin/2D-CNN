{
 "cells": [
  {
   "cell_type": "code",
   "execution_count": 3,
   "metadata": {},
   "outputs": [
    {
     "ename": "AttributeError",
     "evalue": "'NoneType' object has no attribute 'astype'",
     "output_type": "error",
     "traceback": [
      "\u001b[1;31m---------------------------------------------------------------------------\u001b[0m",
      "\u001b[1;31mAttributeError\u001b[0m                            Traceback (most recent call last)",
      "Cell \u001b[1;32mIn[3], line 55\u001b[0m\n\u001b[0;32m     52\u001b[0m     \u001b[38;5;28;01mreturn\u001b[39;00m torch_model\n\u001b[0;32m     54\u001b[0m model \u001b[38;5;241m=\u001b[39m init_torch_model()\n\u001b[1;32m---> 55\u001b[0m input_img \u001b[38;5;241m=\u001b[39m \u001b[43mcv2\u001b[49m\u001b[38;5;241;43m.\u001b[39;49m\u001b[43mimread\u001b[49m\u001b[43m(\u001b[49m\u001b[38;5;124;43m'\u001b[39;49m\u001b[38;5;124;43mface.png\u001b[39;49m\u001b[38;5;124;43m'\u001b[39;49m\u001b[43m)\u001b[49m\u001b[38;5;241;43m.\u001b[39;49m\u001b[43mastype\u001b[49m(np\u001b[38;5;241m.\u001b[39mfloat32)\n\u001b[0;32m     57\u001b[0m \u001b[38;5;66;03m# HWC to NCHW\u001b[39;00m\n\u001b[0;32m     58\u001b[0m input_img \u001b[38;5;241m=\u001b[39m np\u001b[38;5;241m.\u001b[39mtranspose(input_img, [\u001b[38;5;241m2\u001b[39m, \u001b[38;5;241m0\u001b[39m, \u001b[38;5;241m1\u001b[39m])\n",
      "\u001b[1;31mAttributeError\u001b[0m: 'NoneType' object has no attribute 'astype'"
     ]
    }
   ],
   "source": [
    "import os\n",
    "\n",
    "import cv2\n",
    "import numpy as np\n",
    "import requests\n",
    "import torch\n",
    "import torch.onnx\n",
    "from torch import nn\n",
    "\n",
    "class SuperResolutionNet(nn.Module):\n",
    "    def __init__(self, upscale_factor):\n",
    "        super().__init__()\n",
    "        self.upscale_factor = upscale_factor\n",
    "        self.img_upsampler = nn.Upsample(\n",
    "            scale_factor=self.upscale_factor,\n",
    "            mode='bicubic',\n",
    "            align_corners=False)\n",
    "\n",
    "        self.conv1 = nn.Conv2d(3,64,kernel_size=9,padding=4)\n",
    "        self.conv2 = nn.Conv2d(64,32,kernel_size=1,padding=0)\n",
    "        self.conv3 = nn.Conv2d(32,3,kernel_size=5,padding=2)\n",
    "\n",
    "        self.relu = nn.ReLU()\n",
    "\n",
    "    def forward(self, x):\n",
    "        x = self.img_upsampler(x)\n",
    "        out = self.relu(self.conv1(x))\n",
    "        out = self.relu(self.conv2(out))\n",
    "        out = self.conv3(out)\n",
    "        return out\n",
    "\n",
    "# Download checkpoint and test image\n",
    "urls = ['https://download.openmmlab.com/mmediting/restorers/srcnn/srcnn_x4k915_1x16_1000k_div2k_20200608-4186f232.pth',\n",
    "        'https://raw.githubusercontent.com/open-mmlab/mmagic/master/tests/data/face/000001.png']\n",
    "names = ['srcnn.pth', 'face.png']\n",
    "for url, name in zip(urls, names):\n",
    "    if not os.path.exists(name):\n",
    "        open(name, 'wb').write(requests.get(url).content)\n",
    "\n",
    "def init_torch_model():\n",
    "    torch_model = SuperResolutionNet(upscale_factor=3)\n",
    "\n",
    "    state_dict = torch.load('srcnn.pth')['state_dict']\n",
    "\n",
    "    # Adapt the checkpoint\n",
    "    for old_key in list(state_dict.keys()):\n",
    "        new_key = '.'.join(old_key.split('.')[1:])\n",
    "        state_dict[new_key] = state_dict.pop(old_key)\n",
    "\n",
    "    torch_model.load_state_dict(state_dict)\n",
    "    torch_model.eval()\n",
    "    return torch_model\n",
    "\n",
    "model = init_torch_model()\n",
    "input_img = cv2.imread('face.png').astype(np.float32)\n",
    "\n",
    "# HWC to NCHW\n",
    "input_img = np.transpose(input_img, [2, 0, 1])\n",
    "input_img = np.expand_dims(input_img, 0)\n",
    "\n",
    "# Inference\n",
    "torch_output = model(torch.from_numpy(input_img)).detach().numpy()\n",
    "\n",
    "# NCHW to HWC\n",
    "torch_output = np.squeeze(torch_output, 0)\n",
    "torch_output = np.clip(torch_output, 0, 255)\n",
    "torch_output = np.transpose(torch_output, [1, 2, 0]).astype(np.uint8)\n",
    "\n",
    "# Show image\n",
    "cv2.imwrite(\"face_torch.png\", torch_output)"
   ]
  }
 ],
 "metadata": {
  "kernelspec": {
   "display_name": "42",
   "language": "python",
   "name": "python3"
  },
  "language_info": {
   "codemirror_mode": {
    "name": "ipython",
    "version": 3
   },
   "file_extension": ".py",
   "mimetype": "text/x-python",
   "name": "python",
   "nbconvert_exporter": "python",
   "pygments_lexer": "ipython3",
   "version": "3.12.4"
  }
 },
 "nbformat": 4,
 "nbformat_minor": 2
}
