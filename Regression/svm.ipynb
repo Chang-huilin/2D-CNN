{
 "cells": [
  {
   "cell_type": "code",
   "execution_count": 1,
   "metadata": {},
   "outputs": [
    {
     "name": "stdout",
     "output_type": "stream",
     "text": [
      "训练均方误差(MSE): 101.8394\n",
      "模型已保存到: moisture_svr_model.pkl\n"
     ]
    }
   ],
   "source": [
    "import numpy as np\n",
    "from sklearn.svm import SVR\n",
    "from sklearn.metrics import mean_squared_error\n",
    "import joblib\n",
    "\n",
    "# 生成示例训练数据（请替换为实际数据）\n",
    "# 假设每个样本有9个特征（RGB, HSI, LAB），目标为水分值（0～100）\n",
    "N = 1000  # 样本数量\n",
    "X_train = np.random.randn(N, 9)   # 随机生成的9维特征数据\n",
    "y_train = np.random.randn(N) * 10 + 50  # 模拟水分值，均值50，标准差10\n",
    "y_train = np.clip(y_train, 0, 100)  # 限制水分值在0～100范围内\n",
    "\n",
    "# 初始化SVR模型（参数可根据实际情况调节）\n",
    "svr = SVR(kernel='rbf', C=1.0, epsilon=0.1)\n",
    "\n",
    "# 训练模型\n",
    "svr.fit(X_train, y_train)\n",
    "\n",
    "# 计算训练集均方误差（MSE）\n",
    "pred_train = svr.predict(X_train)\n",
    "mse = mean_squared_error(y_train, pred_train)\n",
    "print(f\"训练均方误差(MSE): {mse:.4f}\")\n",
    "\n",
    "# 保存训练好的模型到磁盘\n",
    "model_path = 'moisture_svr_model.pkl'\n",
    "joblib.dump(svr, model_path)\n",
    "print(\"模型已保存到:\", model_path)\n"
   ]
  },
  {
   "cell_type": "code",
   "execution_count": 2,
   "metadata": {},
   "outputs": [
    {
     "ename": "error",
     "evalue": "OpenCV(4.11.0) D:\\a\\opencv-python\\opencv-python\\opencv\\modules\\imgproc\\src\\color.cpp:199: error: (-215:Assertion failed) !_src.empty() in function 'cv::cvtColor'\n",
     "output_type": "error",
     "traceback": [
      "\u001b[1;31m---------------------------------------------------------------------------\u001b[0m",
      "\u001b[1;31merror\u001b[0m                                     Traceback (most recent call last)",
      "Cell \u001b[1;32mIn[2], line 12\u001b[0m\n\u001b[0;32m     10\u001b[0m \u001b[38;5;66;03m# 读取图像，并转换为RGB格式\u001b[39;00m\n\u001b[0;32m     11\u001b[0m img \u001b[38;5;241m=\u001b[39m cv2\u001b[38;5;241m.\u001b[39mimread(\u001b[38;5;124mr\u001b[39m\u001b[38;5;124m'\u001b[39m\u001b[38;5;124mC:\u001b[39m\u001b[38;5;124m\\\u001b[39m\u001b[38;5;124mUsers\u001b[39m\u001b[38;5;124m\\\u001b[39m\u001b[38;5;124mYou\u001b[39m\u001b[38;5;124m\\\u001b[39m\u001b[38;5;124mDesktop\u001b[39m\u001b[38;5;124m\\\u001b[39m\u001b[38;5;124m11.25\u001b[39m\u001b[38;5;124m\\\u001b[39m\u001b[38;5;124mWPS1\u001b[39m\u001b[38;5;124m\\\u001b[39m\u001b[38;5;124m3.png\u001b[39m\u001b[38;5;124m'\u001b[39m)\n\u001b[1;32m---> 12\u001b[0m img \u001b[38;5;241m=\u001b[39m \u001b[43mcv2\u001b[49m\u001b[38;5;241;43m.\u001b[39;49m\u001b[43mcvtColor\u001b[49m\u001b[43m(\u001b[49m\u001b[43mimg\u001b[49m\u001b[43m,\u001b[49m\u001b[43m \u001b[49m\u001b[43mcv2\u001b[49m\u001b[38;5;241;43m.\u001b[39;49m\u001b[43mCOLOR_BGR2RGB\u001b[49m\u001b[43m)\u001b[49m\n\u001b[0;32m     13\u001b[0m \u001b[38;5;66;03m# 将图像归一化到0~1范围\u001b[39;00m\n\u001b[0;32m     14\u001b[0m img_norm \u001b[38;5;241m=\u001b[39m img\u001b[38;5;241m.\u001b[39mastype(np\u001b[38;5;241m.\u001b[39mfloat32) \u001b[38;5;241m/\u001b[39m \u001b[38;5;241m255.0\u001b[39m\n",
      "\u001b[1;31merror\u001b[0m: OpenCV(4.11.0) D:\\a\\opencv-python\\opencv-python\\opencv\\modules\\imgproc\\src\\color.cpp:199: error: (-215:Assertion failed) !_src.empty() in function 'cv::cvtColor'\n"
     ]
    }
   ],
   "source": [
    "import cv2\n",
    "import numpy as np\n",
    "from skimage import color\n",
    "import matplotlib.pyplot as plt\n",
    "import joblib\n",
    "\n",
    "# 加载保存的SVR模型\n",
    "svr_model = joblib.load('moisture_svr_model.pkl')\n",
    "\n",
    "# 读取图像，并转换为RGB格式\n",
    "img = cv2.imread(r'C:\\Users\\You\\Desktop\\11.25\\WPS1\\3.png')\n",
    "img = cv2.cvtColor(img, cv2.COLOR_BGR2RGB)\n",
    "# 将图像归一化到0~1范围\n",
    "img_norm = img.astype(np.float32) / 255.0\n",
    "rows, cols, _ = img.shape\n",
    "\n",
    "# --------------------\n",
    "# 提取每个像素的9维特征\n",
    "# --------------------\n",
    "\n",
    "# 1. RGB特征\n",
    "r = img_norm[:, :, 0]\n",
    "g = img_norm[:, :, 1]\n",
    "b = img_norm[:, :, 2]\n",
    "\n",
    "# 2. HSI特征计算\n",
    "# 计算色调（H）\n",
    "num = 0.5 * ((r - g) + (r - b))\n",
    "den = np.sqrt((r - g)**2 + (r - b) * (g - b)) + 1e-6  # 避免除零\n",
    "theta = np.arccos(num / den)\n",
    "H = theta.copy()\n",
    "H[b > g] = 2 * np.pi - H[b > g]\n",
    "H = H / (2 * np.pi)  # 归一化到[0,1]\n",
    "\n",
    "# 计算饱和度（S）\n",
    "S = 1 - 3 * np.minimum(np.minimum(r, g), b) / (r + g + b + 1e-6)\n",
    "\n",
    "# 计算亮度（I）\n",
    "I = (r + g + b) / 3\n",
    "\n",
    "# 3. LAB特征转换（使用skimage库）\n",
    "lab_img = color.rgb2lab(img_norm)\n",
    "Lab_l = lab_img[:, :, 0]\n",
    "Lab_a = lab_img[:, :, 1]\n",
    "Lab_b = lab_img[:, :, 2]\n",
    "\n",
    "# 将所有特征堆叠起来，形成形状为 (rows, cols, 9) 的特征矩阵\n",
    "features = np.stack([r, g, b, H, S, I, Lab_l, Lab_a, Lab_b], axis=2)\n",
    "# 将每个像素作为一个样本，转换为 (rows*cols, 9)\n",
    "features_reshaped = features.reshape(-1, 9)\n",
    "\n",
    "# --------------------\n",
    "# 使用SVR模型对每个像素进行水分预测\n",
    "# --------------------\n",
    "moisture_values = svr_model.predict(features_reshaped)\n",
    "# 将预测结果重新调整为图像大小，并限定在0～100范围内\n",
    "moisture_map = moisture_values.reshape(rows, cols)\n",
    "moisture_map = np.clip(moisture_map, 0, 100)\n",
    "\n",
    "# --------------------\n",
    "# 可视化原始图像和水分热图\n",
    "# --------------------\n",
    "plt.figure(figsize=(12, 6))\n",
    "\n",
    "plt.subplot(1, 2, 1)\n",
    "plt.imshow(img)\n",
    "plt.title('原始图像')\n",
    "plt.axis('off')\n",
    "\n",
    "plt.subplot(1, 2, 2)\n",
    "plt.imshow(moisture_map, cmap='jet')\n",
    "plt.colorbar(label='水分含量')\n",
    "plt.title('水分热图')\n",
    "plt.axis('off')\n",
    "\n",
    "plt.show()\n"
   ]
  }
 ],
 "metadata": {
  "kernelspec": {
   "display_name": "42",
   "language": "python",
   "name": "python3"
  },
  "language_info": {
   "codemirror_mode": {
    "name": "ipython",
    "version": 3
   },
   "file_extension": ".py",
   "mimetype": "text/x-python",
   "name": "python",
   "nbconvert_exporter": "python",
   "pygments_lexer": "ipython3",
   "version": "3.12.4"
  }
 },
 "nbformat": 4,
 "nbformat_minor": 2
}
