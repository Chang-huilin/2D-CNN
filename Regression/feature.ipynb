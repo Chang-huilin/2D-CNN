{
 "cells": [
  {
   "cell_type": "code",
   "execution_count": null,
   "metadata": {},
   "outputs": [
    {
     "name": "stdout",
     "output_type": "stream",
     "text": [
      "颜色特征提取完成！结果已保存至 D:\\红茶数据2024.0423\\工业相机\\自然\\剪裁后\\color_features_pil.csv\n"
     ]
    }
   ],
   "source": [
    "import os\n",
    "import numpy as np\n",
    "import pandas as pd\n",
    "from PIL import Image\n",
    "\n",
    "# 设置目标文件夹路径\n",
    "folder_path = r\"D:\\红茶数据2024.0423\\工业相机\\自然\\剪裁后\"\n",
    "\n",
    "# 获取所有 .bmp 图片文件\n",
    "image_files = [f for f in os.listdir(folder_path) if f.lower().endswith('.bmp')]\n",
    "\n",
    "# 初始化数据存储\n",
    "data_list = []\n",
    "\n",
    "for img_file in image_files:\n",
    "    img_path = os.path.join(folder_path, img_file)\n",
    "    \n",
    "    # 读取图像（PIL 以 RGB 格式打开）\n",
    "    img = Image.open(img_path).convert(\"RGB\")\n",
    "    img_array = np.array(img)  # 转换为 NumPy 数组\n",
    "    \n",
    "    # 提取 R, G, B 颜色通道\n",
    "    r, g, b = img_array[:, :, 0], img_array[:, :, 1], img_array[:, :, 2]\n",
    "    \n",
    "    # 计算 HSI（使用手动转换）\n",
    "    img_norm = img_array / 255.0  # 归一化到 [0, 1]\n",
    "    r_norm, g_norm, b_norm = img_norm[:, :, 0], img_norm[:, :, 1], img_norm[:, :, 2]\n",
    "    \n",
    "    # 计算亮度 (I)\n",
    "    intensity = (r_norm + g_norm + b_norm) / 3.0\n",
    "    \n",
    "    # 计算饱和度 (S)\n",
    "    min_rgb = np.minimum(np.minimum(r_norm, g_norm), b_norm)\n",
    "    saturation = 1 - (3 / (r_norm + g_norm + b_norm + 1e-6)) * min_rgb  # 避免除零\n",
    "    \n",
    "    # 计算色调 (H)\n",
    "    num = 0.5 * ((r_norm - g_norm) + (r_norm - b_norm))\n",
    "    den = np.sqrt((r_norm - g_norm) ** 2 + (r_norm - b_norm) * (g_norm - b_norm)) + 1e-6  # 避免除零\n",
    "    theta = np.arccos(num / den)  # 计算角度\n",
    "    hue = np.degrees(theta)  # 转换为角度制\n",
    "    hue[b > g] = 360 - hue[b > g]  # 调整范围\n",
    "    \n",
    "    # 计算 LAB 颜色空间\n",
    "    from skimage import color\n",
    "    img_lab = color.rgb2lab(img_array / 255.0)  # 归一化后转换\n",
    "    l, a, lab_b = img_lab[:, :, 0], img_lab[:, :, 1], img_lab[:, :, 2]\n",
    "    \n",
    "    # 计算均值\n",
    "    mean_rgb = [np.mean(r), np.mean(g), np.mean(b)]\n",
    "    mean_hsi = [np.mean(hue), np.mean(saturation), np.mean(intensity)]\n",
    "    mean_lab = [np.mean(l), np.mean(a), np.mean(lab_b)]\n",
    "    \n",
    "    # 存入列表\n",
    "    data_list.append([img_file] + mean_rgb + mean_hsi + mean_lab)\n",
    "\n",
    "# 转换为 DataFrame\n",
    "columns = [\"Filename\", \"R\", \"G\", \"B\", \"H\", \"S\", \"I\", \"L\", \"A\", \"B\"]\n",
    "df = pd.DataFrame(data_list, columns=columns)\n",
    "\n",
    "# 保存到 CSV\n",
    "output_csv = os.path.join(folder_path, \"color_features.csv\")\n",
    "df.to_csv(output_csv, index=False, encoding='utf-8-sig')\n",
    "\n",
    "print(f\"颜色特征提取完成！结果已保存至 {output_csv}\")\n"
   ]
  }
 ],
 "metadata": {
  "kernelspec": {
   "display_name": "42",
   "language": "python",
   "name": "python3"
  },
  "language_info": {
   "codemirror_mode": {
    "name": "ipython",
    "version": 3
   },
   "file_extension": ".py",
   "mimetype": "text/x-python",
   "name": "python",
   "nbconvert_exporter": "python",
   "pygments_lexer": "ipython3",
   "version": "3.12.4"
  }
 },
 "nbformat": 4,
 "nbformat_minor": 2
}
