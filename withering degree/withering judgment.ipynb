{
 "cells": [
  {
   "cell_type": "code",
   "execution_count": 3,
   "metadata": {},
   "outputs": [
    {
     "name": "stdout",
     "output_type": "stream",
     "text": [
      "萎凋判别完成，结果已保存到: D:\\红茶数据2024.0423\\萎凋判别_结果.xlsx\n"
     ]
    }
   ],
   "source": [
    "import pandas as pd\n",
    "\n",
    "# 读取 Excel 文件\n",
    "file_path = r\"D:\\红茶数据2024.0423\\萎凋判别.xlsx\"\n",
    "\n",
    "# 读取 Excel 文件，无表头，第一列为序号，第二列为水分含量\n",
    "df = pd.read_excel(file_path, header=None, names=[\"序号\", \"水分含量\"])\n",
    "\n",
    "# 定义判断萎凋程度的函数\n",
    "def classify_wither(moisture):\n",
    "    if moisture > 64:\n",
    "        return \"萎凋不足\"\n",
    "    elif 60 <= moisture <= 64:\n",
    "        return \"萎凋适度\"\n",
    "    else:\n",
    "        return \"萎凋过度\"\n",
    "\n",
    "# 应用分类函数\n",
    "df[\"萎凋程度\"] = df[\"水分含量\"].apply(classify_wither)\n",
    "\n",
    "# 保存结果\n",
    "output_path = r\"D:\\红茶数据2024.0423\\萎凋判别_结果.xlsx\"\n",
    "df.to_excel(output_path, index=False)\n",
    "\n",
    "print(\"萎凋判别完成，结果已保存到:\", output_path)"
   ]
  }
 ],
 "metadata": {
  "kernelspec": {
   "display_name": "42",
   "language": "python",
   "name": "python3"
  },
  "language_info": {
   "codemirror_mode": {
    "name": "ipython",
    "version": 3
   },
   "file_extension": ".py",
   "mimetype": "text/x-python",
   "name": "python",
   "nbconvert_exporter": "python",
   "pygments_lexer": "ipython3",
   "version": "3.12.4"
  }
 },
 "nbformat": 4,
 "nbformat_minor": 2
}
