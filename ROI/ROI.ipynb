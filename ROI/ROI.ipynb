{
 "cells": [
  {
   "cell_type": "code",
   "execution_count": 7,
   "metadata": {},
   "outputs": [
    {
     "name": "stdout",
     "output_type": "stream",
     "text": [
      "图像裁剪完成！\n"
     ]
    }
   ],
   "source": [
    "from PIL import Image\n",
    "import os\n",
    "\n",
    "# 设置文件夹路径\n",
    "folder_path = r'D:\\红茶数据2024.0423\\工业相机\\自然\\鲜叶'\n",
    "output_folder = r'D:\\红茶数据2024.0423\\工业相机\\自然\\鲜叶\\裁剪后的图像'\n",
    "os.makedirs(output_folder, exist_ok=True)\n",
    "\n",
    "# 获取所有bmp文件\n",
    "bmp_files = [f for f in os.listdir(folder_path) if f.lower().endswith('.bmp')]\n",
    "\n",
    "# 对每个图像进行裁剪\n",
    "for bmp_file in bmp_files:\n",
    "    # 构建图像文件路径\n",
    "    img_path = os.path.join(folder_path, bmp_file)\n",
    "    \n",
    "    # 读取图像\n",
    "    A = Image.open(img_path)\n",
    "    \n",
    "    # 裁剪图像（根据你的要求裁剪）\n",
    "    B = A.crop((400, 270, 1200, 1000))#(left, upper, right, lower)\n",
    "    \n",
    "    # 保存裁剪后的图像\n",
    "    output_path = os.path.join(output_folder, bmp_file)\n",
    "    B.save(output_path)\n",
    "\n",
    "print(\"图像裁剪完成！\")\n"
   ]
  },
  {
   "cell_type": "code",
   "execution_count": 2,
   "metadata": {},
   "outputs": [
    {
     "name": "stdout",
     "output_type": "stream",
     "text": [
      "图像扩增完成！\n"
     ]
    }
   ],
   "source": [
    "from PIL import Image, ImageOps\n",
    "import random\n",
    "import os\n",
    "\n",
    "# 扩增函数：包括旋转、翻转、缩放和平移\n",
    "def augment_image(img):\n",
    "    augmented_images = []\n",
    "\n",
    "    # 旋转图像，角度在-30到30之间随机\n",
    "    angle = random.randint(-30, 30)\n",
    "    rotated = img.rotate(angle)\n",
    "    augmented_images.append(rotated)\n",
    "\n",
    "    # 水平翻转\n",
    "    flipped_horizontally = ImageOps.mirror(img)\n",
    "    augmented_images.append(flipped_horizontally)\n",
    "\n",
    "    # 垂直翻转\n",
    "    flipped_vertically = ImageOps.flip(img)\n",
    "    augmented_images.append(flipped_vertically)\n",
    "\n",
    "    # 随机缩放（扩大或缩小）\n",
    "    scale_factor = random.uniform(0.8, 1.2)  # 缩放因子范围\n",
    "    width, height = img.size\n",
    "    new_width = int(width * scale_factor)\n",
    "    new_height = int(height * scale_factor)\n",
    "    scaled = img.resize((new_width, new_height))\n",
    "    augmented_images.append(scaled)\n",
    "\n",
    "    # 随机平移\n",
    "    max_translation = 10  # 最大平移像素\n",
    "    translate_x = random.randint(-max_translation, max_translation)\n",
    "    translate_y = random.randint(-max_translation, max_translation)\n",
    "    translated = img.transform(img.size, Image.AFFINE, (1, 0, translate_x, 0, 1, translate_y))\n",
    "    augmented_images.append(translated)\n",
    "\n",
    "    return augmented_images\n",
    "\n",
    "# 设置文件夹路径\n",
    "folder_path = r'D:\\红茶数据2024.0423\\工业相机\\自然\\鲜叶'\n",
    "output_folder = r'D:\\扩增后的图像'\n",
    "os.makedirs(output_folder, exist_ok=True)\n",
    "\n",
    "# 获取所有bmp文件\n",
    "bmp_files = [f for f in os.listdir(folder_path) if f.lower().endswith('.bmp')]\n",
    "\n",
    "# 对每个图像进行扩增\n",
    "for bmp_file in bmp_files:\n",
    "    # 构建图像文件路径\n",
    "    img_path = os.path.join(folder_path, bmp_file)\n",
    "    \n",
    "    # 读取图像\n",
    "    A = Image.open(img_path)\n",
    "    \n",
    "    # 裁剪图像（根据你的要求裁剪）\n",
    "    B = A.crop((400, 270, 1200, 1000))\n",
    "    \n",
    "    # 扩增图像\n",
    "    augmented_images = augment_image(B)\n",
    "    \n",
    "    # 保存扩增后的图像\n",
    "    for i, aug_img in enumerate(augmented_images):\n",
    "        output_path = os.path.join(output_folder, f\"{bmp_file.split('.')[0]}_aug_{i}.bmp\")\n",
    "        aug_img.save(output_path)\n",
    "\n",
    "print(\"图像扩增完成！\")\n"
   ]
  }
 ],
 "metadata": {
  "kernelspec": {
   "display_name": "42",
   "language": "python",
   "name": "python3"
  },
  "language_info": {
   "codemirror_mode": {
    "name": "ipython",
    "version": 3
   },
   "file_extension": ".py",
   "mimetype": "text/x-python",
   "name": "python",
   "nbconvert_exporter": "python",
   "pygments_lexer": "ipython3",
   "version": "3.12.4"
  }
 },
 "nbformat": 4,
 "nbformat_minor": 2
}
